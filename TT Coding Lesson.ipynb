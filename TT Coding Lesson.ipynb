{
 "cells": [
  {
   "cell_type": "code",
   "execution_count": 2,
   "id": "37ab873f",
   "metadata": {},
   "outputs": [
    {
     "name": "stdout",
     "output_type": "stream",
     "text": [
      "Hej! Vi ska lära oss Python!\n"
     ]
    }
   ],
   "source": [
    "print(\"Hej! Vi ska lära oss Python!\")"
   ]
  },
  {
   "cell_type": "code",
   "execution_count": 3,
   "id": "9f96ba7f",
   "metadata": {},
   "outputs": [
    {
     "name": "stdout",
     "output_type": "stream",
     "text": [
      "Hello, my name is Andreas and I am 27 years old.\n"
     ]
    }
   ],
   "source": [
    "# Det här är en kommentar, den gör inget\n",
    "\n",
    "\n",
    "# Vi skapar lite variabler. De håller information.\n",
    "\n",
    "# Ett nummer/siffra. Kallas för 'integer' eller 'int'\n",
    "age = 27\n",
    "# En text. Kallas för 'string', 'sträng' på svenska\n",
    "name = \"Andreas\"\n",
    "\n",
    "# Vi vill skriva ut namn och ålder\n",
    "# Vi kan använda print och en f-sträng\n",
    "print(f\"Hello, my name is {name} and I am {age} years old.\")"
   ]
  },
  {
   "cell_type": "code",
   "execution_count": 4,
   "id": "5339f79b",
   "metadata": {},
   "outputs": [
    {
     "name": "stdout",
     "output_type": "stream",
     "text": [
      "Du är ju bara barnet!\n"
     ]
    }
   ],
   "source": [
    "if age < 30:\n",
    "    print(\"Du är ju bara barnet!\")\n",
    "elif age == 30:\n",
    "    print(\"30-årskris kanske?\")\n",
    "else:\n",
    "    print(\"Ojdå, börjar visst bli gammal!\")"
   ]
  },
  {
   "cell_type": "code",
   "execution_count": 5,
   "id": "74dbf83e",
   "metadata": {},
   "outputs": [
    {
     "name": "stdout",
     "output_type": "stream",
     "text": [
      "['banan', 'melon', 'kiwi', 'citron']\n"
     ]
    }
   ],
   "source": [
    "# Vi kan göra en lista med grejer\n",
    "\n",
    "my_favorite_fruits = [\"banan\", \"melon\", \"kiwi\", \"citron\"]\n",
    "\n",
    "# Vi kan enkelt skriva ut en lista\n",
    "print(my_favorite_fruits)"
   ]
  },
  {
   "cell_type": "code",
   "execution_count": 6,
   "id": "abeac48b",
   "metadata": {},
   "outputs": [
    {
     "name": "stdout",
     "output_type": "stream",
     "text": [
      "kiwi\n"
     ]
    }
   ],
   "source": [
    "# Eller ett specifikt index\n",
    "print(my_favorite_fruits[2])"
   ]
  },
  {
   "cell_type": "code",
   "execution_count": 7,
   "id": "63da3515",
   "metadata": {},
   "outputs": [
    {
     "name": "stdout",
     "output_type": "stream",
     "text": [
      "banan\n",
      "citron\n"
     ]
    }
   ],
   "source": [
    "print(my_favorite_fruits[0])\n",
    "print(my_favorite_fruits[3])"
   ]
  },
  {
   "cell_type": "code",
   "execution_count": 8,
   "id": "c44b8a2e",
   "metadata": {},
   "outputs": [
    {
     "name": "stdout",
     "output_type": "stream",
     "text": [
      "Antal frukter: 4\n",
      "citron\n"
     ]
    }
   ],
   "source": [
    "# Det är jobbigt att komma ihåg index.\n",
    "# Jag vill skriva ut sista frukten\n",
    "number_of_fruits = len(my_favorite_fruits)\n",
    "\n",
    "print(f\"Antal frukter: {number_of_fruits}\")\n",
    "print(my_favorite_fruits[number_of_fruits - 1])"
   ]
  },
  {
   "cell_type": "code",
   "execution_count": 9,
   "id": "94c98c93",
   "metadata": {},
   "outputs": [
    {
     "name": "stdout",
     "output_type": "stream",
     "text": [
      "citron\n"
     ]
    }
   ],
   "source": [
    "print(my_favorite_fruits[-1])"
   ]
  },
  {
   "cell_type": "code",
   "execution_count": 10,
   "id": "7e5fbbd4",
   "metadata": {},
   "outputs": [
    {
     "name": "stdout",
     "output_type": "stream",
     "text": [
      "banan\n",
      "melon\n",
      "kiwi\n",
      "citron\n"
     ]
    }
   ],
   "source": [
    "# Sen kan man iterera över listan\n",
    "# Det här kallas för en for-loop\n",
    "for fruit in my_favorite_fruits:\n",
    "    print(fruit)"
   ]
  },
  {
   "cell_type": "code",
   "execution_count": 11,
   "id": "7349a1b7",
   "metadata": {},
   "outputs": [
    {
     "name": "stdout",
     "output_type": "stream",
     "text": [
      "['kiwi', 'citron']\n"
     ]
    }
   ],
   "source": [
    "# Man kanske vill ta ut vissa saker ur en lista\n",
    "fruits_with_i = []  # Tom lista\n",
    "\n",
    "for fruit in my_favorite_fruits:\n",
    "    if 'i' in fruit:\n",
    "        fruits_with_i.append(fruit)\n",
    "\n",
    "# Vi skriver ut för att se vad vi fick\n",
    "print(fruits_with_i)"
   ]
  },
  {
   "cell_type": "code",
   "execution_count": 13,
   "id": "a6ad0de4",
   "metadata": {},
   "outputs": [
    {
     "name": "stdout",
     "output_type": "stream",
     "text": [
      "['melon']\n"
     ]
    }
   ],
   "source": [
    "# Istället för att ha en lång for-loop kan man göra saker på en rad i Python\n",
    "# Det här kallas 'list comprehension'\n",
    "fruits_starting_with_m = [fruit for fruit in my_favorite_fruits if fruit.startswith('m')]\n",
    "\n",
    "print(fruits_starting_with_m)"
   ]
  },
  {
   "cell_type": "markdown",
   "id": "d1eeede4",
   "metadata": {},
   "source": [
    "# Funktioner"
   ]
  },
  {
   "cell_type": "code",
   "execution_count": 21,
   "id": "c0336ad8",
   "metadata": {},
   "outputs": [],
   "source": [
    "def calc_yearly_energy_costs(monthly_cost):\n",
    "    print(\"Beräknar årliga kostnaden\")\n",
    "    return monthly_cost * 12\n",
    "\n",
    "# Bara det här gör inget, vi måste anropa funktionen"
   ]
  },
  {
   "cell_type": "code",
   "execution_count": 22,
   "id": "31331328",
   "metadata": {},
   "outputs": [
    {
     "name": "stdout",
     "output_type": "stream",
     "text": [
      "Beräknar årliga kostnaden\n",
      "Årskostnaden är 5400 kr\n"
     ]
    }
   ],
   "source": [
    "# Vi kanske har 450 kr/månad\n",
    "cost = calc_yearly_energy_costs(450)\n",
    "\n",
    "print(f\"Årskostnaden är {cost} kr\")"
   ]
  },
  {
   "cell_type": "code",
   "execution_count": null,
   "id": "882df392",
   "metadata": {},
   "outputs": [],
   "source": []
  }
 ],
 "metadata": {
  "kernelspec": {
   "display_name": "Python 3 (ipykernel)",
   "language": "python",
   "name": "python3"
  },
  "language_info": {
   "codemirror_mode": {
    "name": "ipython",
    "version": 3
   },
   "file_extension": ".py",
   "mimetype": "text/x-python",
   "name": "python",
   "nbconvert_exporter": "python",
   "pygments_lexer": "ipython3",
   "version": "3.11.2"
  }
 },
 "nbformat": 4,
 "nbformat_minor": 5
}
